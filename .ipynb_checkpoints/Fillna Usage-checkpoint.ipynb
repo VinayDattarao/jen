{
 "cells": [
  {
   "cell_type": "code",
   "execution_count": 1,
   "id": "41cad241-9162-4e8f-a40f-791c37896b7a",
   "metadata": {},
   "outputs": [
    {
     "data": {
      "text/plain": [
       "Name         1\n",
       "Team         1\n",
       "Number       1\n",
       "Position     1\n",
       "Age          1\n",
       "Height       1\n",
       "Weight       1\n",
       "College     85\n",
       "Salary      12\n",
       "dtype: int64"
      ]
     },
     "execution_count": 1,
     "metadata": {},
     "output_type": "execute_result"
    }
   ],
   "source": [
    "import pandas as pd\n",
    "f = pd.read_csv(\"C:/Users/SDES/Downloads/508/nba.csv\")\n",
    "f.isnull().sum()"
   ]
  },
  {
   "cell_type": "code",
   "execution_count": 19,
   "id": "cbce9cef-9d64-40da-8dc6-4588577f045c",
   "metadata": {},
   "outputs": [
    {
     "name": "stdout",
     "output_type": "stream",
     "text": [
      "<class 'pandas.core.frame.DataFrame'>\n",
      "Index: 364 entries, 0 to 456\n",
      "Data columns (total 9 columns):\n",
      " #   Column    Non-Null Count  Dtype  \n",
      "---  ------    --------------  -----  \n",
      " 0   Name      364 non-null    object \n",
      " 1   Team      364 non-null    object \n",
      " 2   Number    364 non-null    float64\n",
      " 3   Position  364 non-null    object \n",
      " 4   Age       364 non-null    float64\n",
      " 5   Height    364 non-null    object \n",
      " 6   Weight    364 non-null    float64\n",
      " 7   College   364 non-null    object \n",
      " 8   Salary    364 non-null    float64\n",
      "dtypes: float64(4), object(5)\n",
      "memory usage: 28.4+ KB\n"
     ]
    },
    {
     "data": {
      "text/plain": [
       "Name        False\n",
       "Team        False\n",
       "Number      False\n",
       "Position    False\n",
       "Age         False\n",
       "Height      False\n",
       "Weight      False\n",
       "College     False\n",
       "Salary      False\n",
       "dtype: bool"
      ]
     },
     "execution_count": 19,
     "metadata": {},
     "output_type": "execute_result"
    }
   ],
   "source": [
    "f.dropna(inplace=True)\n",
    "f.isna().sum()\n",
    "f.info()\n",
    "f.fillna({\"Number\":f[\"Number\"].mean(),\"Age\":f[\"Age\"].mean(),\"Weight\":f[\"Weight\"].mean(),\"Salary\":f[\"Salary\"].mean(),\n",
    "         \"Name\":f[\"Name\"].mode()[0],\"Team\":f[\"Team\"].mode()[0],\"Position\":f[\"Position\"].mode()[0],\"Height\":f[\"Height\"].mode()[0],\"College\":f[\"College\"].mode()[0]})\n",
    "f.isnull().any()"
   ]
  },
  {
   "cell_type": "code",
   "execution_count": null,
   "id": "89e134af-a601-44d0-aaab-5afbe1aac79b",
   "metadata": {},
   "outputs": [],
   "source": []
  }
 ],
 "metadata": {
  "kernelspec": {
   "display_name": "Python 3 (ipykernel)",
   "language": "python",
   "name": "python3"
  },
  "language_info": {
   "codemirror_mode": {
    "name": "ipython",
    "version": 3
   },
   "file_extension": ".py",
   "mimetype": "text/x-python",
   "name": "python",
   "nbconvert_exporter": "python",
   "pygments_lexer": "ipython3",
   "version": "3.12.4"
  }
 },
 "nbformat": 4,
 "nbformat_minor": 5
}
